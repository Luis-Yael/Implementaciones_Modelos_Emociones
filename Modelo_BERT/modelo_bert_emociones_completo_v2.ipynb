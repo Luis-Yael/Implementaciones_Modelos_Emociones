{
 "cells": [
  {
   "cell_type": "markdown",
   "id": "3e4d4ee3",
   "metadata": {},
   "source": [
    "# Este script sirve para preprocesar el dataset, se divide en 80% de training y 20% de test.\n",
    "# Se carga el tokenizador con BERT\n",
    "# Se convierten los datos tokenizados a tensores de PyTorch"
   ]
  },
  {
   "cell_type": "code",
   "execution_count": 2,
   "id": "24a8488c",
   "metadata": {},
   "outputs": [
    {
     "name": "stderr",
     "output_type": "stream",
     "text": [
      "/Users/luisyael_ms/Documents/Modelos_Colab_Emociones/.venv/lib/python3.12/site-packages/tqdm/auto.py:21: TqdmWarning: IProgress not found. Please update jupyter and ipywidgets. See https://ipywidgets.readthedocs.io/en/stable/user_install.html\n",
      "  from .autonotebook import tqdm as notebook_tqdm\n"
     ]
    },
    {
     "name": "stdout",
     "output_type": "stream",
     "text": [
      "Cargando dataset desde: Clasificacion_Manual_Dataset_Etiquetado/Dataset_Emociones_Completo.csv\n",
      "Dataset cargado con 2880 filas y 6 columnas\n",
      "Codificando etiquetas de emociones...\n",
      "Etiquetas codificadas: {'Felicidad': 0, 'Tristeza': 1, 'Estrés': 2, 'Preocupación': 3, 'Miedo': 4, 'Ira': 5}\n",
      "Dividiendo el dataset en entrenamiento y prueba...\n",
      "Conjunto de entrenamiento: 2304 muestras, Conjunto de prueba: 576 muestras\n",
      "Train dataset guardado en: Modelo_BERT/Train_Dataset.csv\n",
      "Test dataset guardado en: Modelo_BERT/Test_Dataset.csv\n",
      "Cargando tokenizador: bert-base-multilingual-cased\n",
      "Tokenizando textos...\n",
      "Tokenización completada.\n",
      "Convirtiendo datos a tensores de PyTorch...\n",
      "Conversión a tensores completada.\n",
      "Creando TensorDatasets...\n",
      "TensorDatasets creados exitosamente.\n",
      "Configurando DataLoaders con batch size de 16...\n",
      "DataLoaders creados correctamente.\n",
      "Preprocesamiento completado. Datos listos para entrenamiento.\n"
     ]
    }
   ],
   "source": [
    "# Bibliotecas estándar y de entorno\n",
    "import os\n",
    "import numpy as np\n",
    "import pandas as pd\n",
    "import matplotlib.pyplot as plt\n",
    "import seaborn as sns\n",
    "# PyTorch\n",
    "import torch\n",
    "import torch.nn as nn\n",
    "import torch.optim as optim\n",
    "from torch.utils.data import TensorDataset, DataLoader\n",
    "# Transformers (HuggingFace)\n",
    "from transformers import BertTokenizer, BertForSequenceClassification\n",
    "import torch.optim as optim  # Usar AdamW desde torch\n",
    "# Barra de progreso\n",
    "from tqdm import tqdm\n",
    "# Validación y métricas\n",
    "from sklearn.model_selection import train_test_split, KFold\n",
    "from sklearn.metrics import (\n",
    "    accuracy_score,\n",
    "    precision_recall_fscore_support,\n",
    "    confusion_matrix,\n",
    "    classification_report,\n",
    "    roc_auc_score,\n",
    "    roc_curve,\n",
    "    auc\n",
    ")\n",
    "\n",
    "# Crear la carpeta para almacenar los archivos del modelo\n",
    "output_dir = \"Modelo_BERT\"\n",
    "os.makedirs(output_dir, exist_ok=True)\n",
    "\n",
    "# Cargar el dataset consolidado desde la carpeta donde se guardó previamente\n",
    "file_path = \"Clasificacion_Manual_Dataset_Etiquetado/Dataset_Emociones_Completo.csv\"\n",
    "print(f\"Cargando dataset desde: {file_path}\")\n",
    "df = pd.read_csv(file_path, encoding='utf-8')\n",
    "print(f\"Dataset cargado con {df.shape[0]} filas y {df.shape[1]} columnas\")\n",
    "\n",
    "# Codificar etiquetas de emociones a valores numéricos para que el modelo pueda interpretarlas\n",
    "print(\"Codificando etiquetas de emociones...\")\n",
    "emocion_labels = {label: idx for idx, label in enumerate(df[\"Emocion\"].unique())}  # Asigna un número a cada emoción única\n",
    "df[\"Emocion\"] = df[\"Emocion\"].map(emocion_labels)  # Reemplaza los nombres de emociones por su número correspondiente\n",
    "print(f\"Etiquetas codificadas: {emocion_labels}\")\n",
    "\n",
    "# Dividir el dataset en conjunto de entrenamiento (80%) y prueba (20%)\n",
    "print(\"Dividiendo el dataset en entrenamiento y prueba...\")\n",
    "train_texts, test_texts, train_labels, test_labels = train_test_split(\n",
    "    df[\"Texto_Procesado\"].tolist(),  # Se toma la columna con los textos preprocesados\n",
    "    df[\"Emocion\"].tolist(),  # Se toma la columna con las emociones codificadas\n",
    "    test_size=0.2,  # El 20% de los datos se usará para la evaluación\n",
    "    random_state=42,  # Se fija una semilla para reproducibilidad\n",
    "    stratify=df[\"Emocion\"]  # Se asegura que la distribución de clases sea balanceada en ambos conjuntos\n",
    ")\n",
    "print(f\"Conjunto de entrenamiento: {len(train_texts)} muestras, Conjunto de prueba: {len(test_texts)} muestras\")\n",
    "\n",
    "# Guardar los datasets en archivos CSV\n",
    "train_df = pd.DataFrame({\"Texto_Procesado\": train_texts, \"Emocion\": train_labels})\n",
    "test_df = pd.DataFrame({\"Texto_Procesado\": test_texts, \"Emocion\": test_labels})\n",
    "train_path = os.path.join(output_dir, \"Train_Dataset.csv\")\n",
    "test_path = os.path.join(output_dir, \"Test_Dataset.csv\")\n",
    "\n",
    "train_df.to_csv(train_path, index=False, encoding='utf-8')\n",
    "test_df.to_csv(test_path, index=False, encoding='utf-8')\n",
    "\n",
    "print(f\"Train dataset guardado en: {train_path}\")\n",
    "print(f\"Test dataset guardado en: {test_path}\")\n",
    "\n",
    "# Cargar el tokenizador de BERT\n",
    "MODEL_NAME = \"bert-base-multilingual-cased\"  # Se puede cambiar dependiendo del idioma del dataset\n",
    "print(f\"Cargando tokenizador: {MODEL_NAME}\")\n",
    "tokenizer = BertTokenizer.from_pretrained(MODEL_NAME)\n",
    "\n",
    "# Tokenizar los textos para convertirlos en secuencias numéricas que BERT pueda interpretar\n",
    "print(\"Tokenizando textos...\")\n",
    "train_encodings = tokenizer(\n",
    "    train_texts, truncation=True, padding=True, max_length=128  # Se establece un máximo de 128 tokens por texto\n",
    ")\n",
    "test_encodings = tokenizer(\n",
    "    test_texts, truncation=True, padding=True, max_length=128  # Se realiza el mismo procesamiento para el conjunto de prueba\n",
    ")\n",
    "print(\"Tokenización completada.\")\n",
    "\n",
    "# Convertir los datos tokenizados a tensores de PyTorch\n",
    "print(\"Convirtiendo datos a tensores de PyTorch...\")\n",
    "train_inputs = torch.tensor(train_encodings[\"input_ids\"])  # IDs de los tokens\n",
    "train_masks = torch.tensor(train_encodings[\"attention_mask\"])  # Máscara de atención (1 para tokens válidos, 0 para padding)\n",
    "train_labels = torch.tensor(train_labels)  # Etiquetas de las emociones\n",
    "\n",
    "test_inputs = torch.tensor(test_encodings[\"input_ids\"])  # IDs de los tokens en el conjunto de prueba\n",
    "test_masks = torch.tensor(test_encodings[\"attention_mask\"])  # Máscara de atención para el conjunto de prueba\n",
    "test_labels = torch.tensor(test_labels)  # Etiquetas del conjunto de prueba\n",
    "print(\"Conversión a tensores completada.\")\n",
    "\n",
    "# Crear conjuntos de datos para PyTorch con los tensores generados\n",
    "print(\"Creando TensorDatasets...\")\n",
    "train_data = TensorDataset(train_inputs, train_masks, train_labels)\n",
    "test_data = TensorDataset(test_inputs, test_masks, test_labels)\n",
    "print(\"TensorDatasets creados exitosamente.\")\n",
    "\n",
    "# Definir el tamaño de lote (batch size) para el entrenamiento y la evaluación\n",
    "BATCH_SIZE = 16  # Ajustable según la capacidad de memoria de la GPU\n",
    "print(f\"Configurando DataLoaders con batch size de {BATCH_SIZE}...\")\n",
    "\n",
    "# Crear DataLoaders para manejar los datos en lotes y facilitar el entrenamiento\n",
    "train_dataloader = DataLoader(train_data, batch_size=BATCH_SIZE, shuffle=True)  # Se barajan los datos en cada época\n",
    "test_dataloader = DataLoader(test_data, batch_size=BATCH_SIZE, shuffle=False)  # No se barajan los datos de prueba\n",
    "print(\"DataLoaders creados correctamente.\")\n",
    "\n",
    "print(\"Preprocesamiento completado. Datos listos para entrenamiento.\")"
   ]
  },
  {
   "cell_type": "markdown",
   "id": "29f09be4",
   "metadata": {},
   "source": [
    "# En esta fase se presenta el Script para el entrenamiento del modelo BERT"
   ]
  },
  {
   "cell_type": "code",
   "execution_count": 3,
   "id": "08b4f8e1",
   "metadata": {},
   "outputs": [
    {
     "name": "stdout",
     "output_type": "stream",
     "text": [
      "Usando dispositivo: cpu\n",
      "Cargando modelo BERT preentrenado...\n"
     ]
    },
    {
     "name": "stderr",
     "output_type": "stream",
     "text": [
      "Some weights of BertForSequenceClassification were not initialized from the model checkpoint at bert-base-multilingual-cased and are newly initialized: ['classifier.bias', 'classifier.weight']\n",
      "You should probably TRAIN this model on a down-stream task to be able to use it for predictions and inference.\n"
     ]
    },
    {
     "name": "stdout",
     "output_type": "stream",
     "text": [
      "Cargando datasets desde archivos CSV...\n",
      "Datos de entrenamiento: 2304, Datos de prueba: 576\n",
      "\n",
      "===== Época 1 de 5 =====\n"
     ]
    },
    {
     "name": "stderr",
     "output_type": "stream",
     "text": [
      "                                                                \r"
     ]
    },
    {
     "name": "stdout",
     "output_type": "stream",
     "text": [
      "Pérdida en entrenamiento: 1.2692, Exactitud: 0.5048\n",
      "Pérdida en prueba: 0.9537, Exactitud: 0.6493\n",
      "\n",
      "===== Época 2 de 5 =====\n"
     ]
    },
    {
     "name": "stderr",
     "output_type": "stream",
     "text": [
      "                                                                \r"
     ]
    },
    {
     "name": "stdout",
     "output_type": "stream",
     "text": [
      "Pérdida en entrenamiento: 0.7360, Exactitud: 0.7209\n",
      "Pérdida en prueba: 0.7413, Exactitud: 0.7083\n",
      "\n",
      "===== Época 3 de 5 =====\n"
     ]
    },
    {
     "name": "stderr",
     "output_type": "stream",
     "text": [
      "                                                                \r"
     ]
    },
    {
     "name": "stdout",
     "output_type": "stream",
     "text": [
      "Pérdida en entrenamiento: 0.5088, Exactitud: 0.8134\n",
      "Pérdida en prueba: 0.7329, Exactitud: 0.7361\n",
      "\n",
      "===== Época 4 de 5 =====\n"
     ]
    },
    {
     "name": "stderr",
     "output_type": "stream",
     "text": [
      "                                                                \r"
     ]
    },
    {
     "name": "stdout",
     "output_type": "stream",
     "text": [
      "Pérdida en entrenamiento: 0.3338, Exactitud: 0.8841\n",
      "Pérdida en prueba: 0.8628, Exactitud: 0.7135\n",
      "\n",
      "===== Época 5 de 5 =====\n"
     ]
    },
    {
     "name": "stderr",
     "output_type": "stream",
     "text": [
      "                                                                \r"
     ]
    },
    {
     "name": "stdout",
     "output_type": "stream",
     "text": [
      "Pérdida en entrenamiento: 0.2728, Exactitud: 0.9041\n",
      "Pérdida en prueba: 0.8285, Exactitud: 0.7361\n",
      "Guardando modelo entrenado...\n",
      "Modelo guardado en Modelo_BERT/BERT_Emociones_Model.pth\n"
     ]
    }
   ],
   "source": [
    "#Script para generar el entrenamiento del modelo usando BERT\n",
    "\n",
    "# Codificar etiquetas de emociones a valores numéricos si no están definidas\n",
    "emocion_labels = {label: idx for idx, label in enumerate(df[\"Emocion\"].unique())}\n",
    "\n",
    "# Verificar si hay GPU disponible para acelerar el entrenamiento\n",
    "device = torch.device(\"cuda\" if torch.cuda.is_available() else \"cpu\")\n",
    "print(f\"Usando dispositivo: {device}\")\n",
    "\n",
    "# Cargar el modelo BERT preentrenado con una capa de clasificación ajustada\n",
    "NUM_LABELS = len(emocion_labels)  # Número de clases en la clasificación\n",
    "MODEL_NAME = \"bert-base-multilingual-cased\"\n",
    "\n",
    "print(\"Cargando modelo BERT preentrenado...\")\n",
    "model = BertForSequenceClassification.from_pretrained(MODEL_NAME, num_labels=NUM_LABELS)\n",
    "model.to(device)  # Enviar el modelo a GPU si está disponible\n",
    "\n",
    "# Cargar el tokenizador de BERT\n",
    "tokenizer = BertTokenizer.from_pretrained(MODEL_NAME)\n",
    "\n",
    "# Definir la función de pérdida y el optimizador\n",
    "loss_function = nn.CrossEntropyLoss()  # Función de pérdida adecuada para clasificación multiclase\n",
    "optimizer = torch.optim.AdamW(model.parameters(), lr=2e-5, eps=1e-8)  # Optimizador desde PyTorch\n",
    "\n",
    "# Cargar los datasets desde los archivos CSV\n",
    "print(\"Cargando datasets desde archivos CSV...\")\n",
    "train_dataset_path = os.path.join(output_dir, \"Train_Dataset.csv\")\n",
    "test_dataset_path = os.path.join(output_dir, \"Test_Dataset.csv\")\n",
    "train_df = pd.read_csv(train_dataset_path, encoding='utf-8')\n",
    "test_df = pd.read_csv(test_dataset_path, encoding='utf-8')\n",
    "print(f\"Datos de entrenamiento: {len(train_df)}, Datos de prueba: {len(test_df)}\")\n",
    "\n",
    "# Tokenizar los textos y convertirlos en tensores\n",
    "def convert_to_tensor_dataset(df):\n",
    "    encodings = tokenizer(\n",
    "        df['Texto_Procesado'].tolist(),\n",
    "        truncation=True,\n",
    "        padding=True,\n",
    "        max_length=128,\n",
    "        return_tensors=\"pt\"\n",
    "    )\n",
    "    labels = torch.tensor(df['Emocion'].values)\n",
    "    return TensorDataset(encodings['input_ids'], encodings['attention_mask'], labels)\n",
    "\n",
    "train_data = convert_to_tensor_dataset(train_df)\n",
    "test_data = convert_to_tensor_dataset(test_df)\n",
    "\n",
    "# Crear DataLoaders\n",
    "BATCH_SIZE = 16\n",
    "train_dataloader = DataLoader(train_data, batch_size=BATCH_SIZE, shuffle=True)\n",
    "test_dataloader = DataLoader(test_data, batch_size=BATCH_SIZE, shuffle=False)\n",
    "\n",
    "# Número de épocas para el entrenamiento (ajustable según rendimiento)\n",
    "EPOCHS = 5\n",
    "\n",
    "# Listas para almacenar métricas de entrenamiento y evaluación\n",
    "epochs_list = []\n",
    "train_losses = []\n",
    "test_losses = []\n",
    "train_accuracies = []\n",
    "test_accuracies = []\n",
    "\n",
    "# Función de entrenamiento\n",
    "def train_model(model, train_dataloader):\n",
    "    model.train()  # Poner el modelo en modo entrenamiento\n",
    "    total_loss = 0\n",
    "    correct_predictions = 0\n",
    "    total_samples = 0\n",
    "    \n",
    "    for batch in tqdm(train_dataloader, desc=\"Entrenando\", unit=\"batch\", leave=False):\n",
    "        input_ids, attention_mask, labels = [x.to(device) for x in batch]  # Mover datos a GPU si está disponible\n",
    "        optimizer.zero_grad()  # Resetear gradientes\n",
    "        \n",
    "        # Realizar la predicción\n",
    "        outputs = model(input_ids, attention_mask=attention_mask)\n",
    "        loss = loss_function(outputs.logits, labels)  # Calcular la pérdida\n",
    "        total_loss += loss.item()\n",
    "        \n",
    "        # Backpropagation y optimización\n",
    "        loss.backward()\n",
    "        optimizer.step()\n",
    "        \n",
    "        # Calcular exactitud de predicciones\n",
    "        preds = torch.argmax(outputs.logits, dim=1)  # Obtener la clase con mayor probabilidad\n",
    "        correct_predictions += torch.sum(preds == labels).item()\n",
    "        total_samples += labels.size(0)\n",
    "    \n",
    "    avg_loss = total_loss / len(train_dataloader)  # Promedio de pérdida por batch\n",
    "    accuracy = correct_predictions / total_samples  # Exactitud del modelo\n",
    "    return avg_loss, accuracy\n",
    "\n",
    "# Función de evaluación (sin actualización de gradientes)\n",
    "def evaluate_model(model, test_dataloader):\n",
    "    model.eval()  # Poner el modelo en modo evaluación\n",
    "    total_loss = 0\n",
    "    correct_predictions = 0\n",
    "    total_samples = 0\n",
    "    \n",
    "    with torch.no_grad():  # Desactivar el cálculo de gradientes para ahorrar memoria y acelerar la evaluación\n",
    "        for batch in tqdm(test_dataloader, desc=\"Evaluando\", unit=\"batch\", leave=False):\n",
    "            input_ids, attention_mask, labels = [x.to(device) for x in batch]\n",
    "            outputs = model(input_ids, attention_mask=attention_mask)\n",
    "            loss = loss_function(outputs.logits, labels)\n",
    "            total_loss += loss.item()\n",
    "            \n",
    "            preds = torch.argmax(outputs.logits, dim=1)  # Obtener la clase predicha\n",
    "            correct_predictions += torch.sum(preds == labels).item()\n",
    "            total_samples += labels.size(0)\n",
    "    \n",
    "    avg_loss = total_loss / len(test_dataloader)  # Promedio de pérdida en la evaluación\n",
    "    accuracy = correct_predictions / total_samples  # Exactitud en el conjunto de prueba\n",
    "    return avg_loss, accuracy\n",
    "\n",
    "# Entrenamiento del modelo por el número de épocas definido\n",
    "for epoch in range(EPOCHS):\n",
    "    print(f\"\\n===== Época {epoch+1} de {EPOCHS} =====\")\n",
    "    train_loss, train_acc = train_model(model, train_dataloader)\n",
    "    test_loss, test_acc = evaluate_model(model, test_dataloader)\n",
    "    \n",
    "    print(f\"Pérdida en entrenamiento: {train_loss:.4f}, Exactitud: {train_acc:.4f}\")\n",
    "    print(f\"Pérdida en prueba: {test_loss:.4f}, Exactitud: {test_acc:.4f}\")\n",
    "    \n",
    "    # Guardar métricas\n",
    "    epochs_list.append(epoch+1)\n",
    "    train_losses.append(train_loss)\n",
    "    test_losses.append(test_loss)\n",
    "    train_accuracies.append(train_acc)\n",
    "    test_accuracies.append(test_acc)\n",
    "\n",
    "# Guardar el modelo entrenado para futuras predicciones\n",
    "print(\"Guardando modelo entrenado...\")  # Mensaje adicional para depuración\n",
    "model_save_path = os.path.join(output_dir, \"BERT_Emociones_Model.pth\")\n",
    "torch.save(model.state_dict(), model_save_path)\n",
    "print(f\"Modelo guardado en {model_save_path}\")"
   ]
  },
  {
   "cell_type": "markdown",
   "id": "ebb7d35d",
   "metadata": {},
   "source": [
    "# Script para la fase de evaluación del modelo usando BERT"
   ]
  },
  {
   "cell_type": "code",
   "execution_count": 13,
   "id": "f7409625",
   "metadata": {},
   "outputs": [
    {
     "name": "stdout",
     "output_type": "stream",
     "text": [
      "Cargando modelo BERT preentrenado...\n"
     ]
    },
    {
     "name": "stderr",
     "output_type": "stream",
     "text": [
      "Some weights of BertForSequenceClassification were not initialized from the model checkpoint at bert-base-multilingual-cased and are newly initialized: ['classifier.bias', 'classifier.weight']\n",
      "You should probably TRAIN this model on a down-stream task to be able to use it for predictions and inference.\n"
     ]
    },
    {
     "name": "stdout",
     "output_type": "stream",
     "text": [
      "Cargando tokenizador...\n",
      "Cargando modelo entrenado desde Modelo_BERT/BERT_Emociones_Model.pth...\n",
      "Modelo cargado y listo para predicciones.\n"
     ]
    },
    {
     "name": "stderr",
     "output_type": "stream",
     "text": [
      "Evaluando: 100%|██████████| 36/36 [00:14<00:00,  2.54batch/s]"
     ]
    },
    {
     "name": "stdout",
     "output_type": "stream",
     "text": [
      "\n",
      "===== Métricas de Evaluación =====\n",
      "Exactitud (Accuracy): 0.7361\n",
      "Precisión (Macro): 0.7320\n",
      "Recall (Macro): 0.7014\n",
      "F1-Score (Macro): 0.7078\n",
      "Área bajo la curva ROC-AUC: 0.9426\n",
      "\n"
     ]
    },
    {
     "name": "stderr",
     "output_type": "stream",
     "text": [
      "\n"
     ]
    },
    {
     "data": {
      "image/png": "[encoded data removed]",
      "text/plain": [
       "<Figure size 800x600 with 2 Axes>"
      ]
     },
     "metadata": {},
     "output_type": "display_data"
    }
   ],
   "source": [
    "# Cargar el modelo BERT preentrenado con una capa de clasificación ajustada\n",
    "MODEL_NAME = \"bert-base-multilingual-cased\"\n",
    "\n",
    "# Codificación de etiquetas\n",
    "df = pd.read_csv(file_path, encoding='utf-8')\n",
    "\n",
    "# Guardar una copia textual original de las emociones\n",
    "df[\"Emocion_Textual\"] = df[\"Emocion\"]\n",
    "\n",
    "# Crear codificación\n",
    "emocion_labels = {etiqueta: idx for idx, etiqueta in enumerate(sorted(df[\"Emocion_Textual\"].unique()))}\n",
    "reverse_labels = {idx: etiqueta for etiqueta, idx in emocion_labels.items()}\n",
    "\n",
    "# Codificar emociones\n",
    "df[\"Emocion\"] = df[\"Emocion_Textual\"].map(emocion_labels)\n",
    "print(\"Cargando modelo BERT preentrenado...\")\n",
    "model = BertForSequenceClassification.from_pretrained(MODEL_NAME, num_labels=NUM_LABELS)\n",
    "model.to(device)  # Enviar el modelo a GPU si está disponible\n",
    "\n",
    "# Cargar el tokenizador de BERT\n",
    "print(\"Cargando tokenizador...\")\n",
    "tokenizer = BertTokenizer.from_pretrained(MODEL_NAME)\n",
    "\n",
    "# Cargar el modelo entrenado previamente\n",
    "MODEL_PATH = \"Modelo_BERT/BERT_Emociones_Model.pth\"\n",
    "print(f\"Cargando modelo entrenado desde {MODEL_PATH}...\")\n",
    "model.load_state_dict(torch.load(MODEL_PATH, map_location=device))\n",
    "model.eval()  # Poner el modelo en modo evaluación\n",
    "print(\"Modelo cargado y listo para predicciones.\")\n",
    "\n",
    "# Cargar los datasets preprocesados\n",
    "train_dataset_path = \"Modelo_BERT/Train_Dataset.csv\"\n",
    "test_dataset_path = \"Modelo_BERT/Test_Dataset.csv\"\n",
    "train_df = pd.read_csv(train_dataset_path, encoding='utf-8')\n",
    "test_df = pd.read_csv(test_dataset_path, encoding='utf-8')\n",
    "\n",
    "# Tokenizar los textos y convertirlos en tensores\n",
    "def convert_to_tensor_dataset(df):\n",
    "    encodings = tokenizer(\n",
    "        df['Texto_Procesado'].tolist(),\n",
    "        truncation=True,\n",
    "        padding=True,\n",
    "        max_length=128,\n",
    "        return_tensors=\"pt\"\n",
    "    )\n",
    "    labels = torch.tensor(df['Emocion'].values)\n",
    "    return TensorDataset(encodings['input_ids'], encodings['attention_mask'], labels)\n",
    "\n",
    "train_data = convert_to_tensor_dataset(train_df)\n",
    "test_data = convert_to_tensor_dataset(test_df)\n",
    "\n",
    "# Crear DataLoaders\n",
    "BATCH_SIZE = 16\n",
    "train_dataloader = DataLoader(train_data, batch_size=BATCH_SIZE, shuffle=True)\n",
    "test_dataloader = DataLoader(test_data, batch_size=BATCH_SIZE, shuffle=False)\n",
    "\n",
    "# Función para predecir la emoción de un texto\n",
    "def predecir_emocion(texto):\n",
    "    \"\"\"\n",
    "    Tokeniza el texto ingresado, lo pasa por el modelo y devuelve el nombre de la emoción predicha.\n",
    "    \"\"\"\n",
    "    model.eval()  # Asegurar modo evaluación\n",
    "    inputs = tokenizer(texto, truncation=True, padding=True, max_length=128, return_tensors=\"pt\").to(device)\n",
    "\n",
    "    with torch.no_grad():\n",
    "        outputs = model(**inputs)\n",
    "        logits = outputs.logits\n",
    "        pred_label = int(torch.argmax(logits, dim=1).item())  # Asegurarse que sea int\n",
    "\n",
    "    # Devolver nombre de la emoción\n",
    "    emocion_predicha = reverse_labels.get(pred_label, f\"Desconocido ({pred_label})\")\n",
    "    return emocion_predicha\n",
    "\n",
    "# Evaluación del modelo en el conjunto de prueba\n",
    "def evaluar_modelo(test_dataloader):\n",
    "    \"\"\"Evalúa el modelo y calcula métricas de desempeño.\"\"\"\n",
    "    model.eval()\n",
    "    all_preds = []\n",
    "    all_labels = []\n",
    "    all_probs = []\n",
    "    \n",
    "    with torch.no_grad():\n",
    "        for batch in tqdm(test_dataloader, desc=\"Evaluando\", unit=\"batch\"):\n",
    "            input_ids, attention_mask, labels = [x.to(device) for x in batch]\n",
    "            outputs = model(input_ids, attention_mask=attention_mask)\n",
    "            probs = torch.softmax(outputs.logits, dim=1).cpu().numpy()\n",
    "            preds = torch.argmax(outputs.logits, dim=1).cpu().numpy()\n",
    "            labels = labels.cpu().numpy()\n",
    "            \n",
    "            all_probs.extend(probs)\n",
    "            all_preds.extend(preds)\n",
    "            all_labels.extend(labels)\n",
    "    \n",
    "    # Calcular métricas de clasificación\n",
    "    accuracy = accuracy_score(all_labels, all_preds)\n",
    "    precision, recall, f1, _ = precision_recall_fscore_support(all_labels, all_preds, average='macro')\n",
    "    auc_score = roc_auc_score(all_labels, all_probs, multi_class='ovr')\n",
    "    \n",
    "    print(\"\\n===== Métricas de Evaluación =====\")\n",
    "    print(f\"Exactitud (Accuracy): {accuracy:.4f}\")\n",
    "    print(f\"Precisión (Macro): {precision:.4f}\")\n",
    "    print(f\"Recall (Macro): {recall:.4f}\")\n",
    "    print(f\"F1-Score (Macro): {f1:.4f}\")\n",
    "    print(f\"Área bajo la curva ROC-AUC: {auc_score:.4f}\\n\")\n",
    "    \n",
    "    # Matriz de Confusión Normalizada\n",
    "    cm = confusion_matrix(all_labels, all_preds, normalize='true')\n",
    "    plt.figure(figsize=(8,6))\n",
    "    sns.heatmap(cm, annot=True, fmt='.2f', cmap='Blues', xticklabels=[reverse_labels[i] for i in range(NUM_LABELS)], yticklabels=[reverse_labels[i] for i in range(NUM_LABELS)])\n",
    "    plt.xlabel(\"Predicción\")\n",
    "    plt.ylabel(\"Real\")\n",
    "    plt.title(\"Matriz de Confusión Normalizada\")\n",
    "    plt.show()\n",
    "\n",
    "# Llamar a la evaluación del modelo\n",
    "evaluar_modelo(test_dataloader)"
   ]
  },
  {
   "cell_type": "code",
   "execution_count": 15,
   "id": "db2bf4d0",
   "metadata": {},
   "outputs": [
    {
     "name": "stdout",
     "output_type": "stream",
     "text": [
      "\n",
      "Ingrese una frase para evaluar su emoción. Escriba 'salir' para terminar.\n",
      "\n",
      "reverse_labels: {0: 'Estrés', 1: 'Felicidad', 2: 'Ira', 3: 'Miedo', 4: 'Preocupación', 5: 'Tristeza'}\n",
      "salir\n",
      "Saliendo del programa...\n"
     ]
    }
   ],
   "source": [
    "#Ingresar frase desde teclado para realizar predicción\n",
    "# Interfaz para ingresar textos y obtener predicciones\n",
    "import sys\n",
    "\n",
    "print(\"\\nIngrese una frase para evaluar su emoción. Escriba 'salir' para terminar.\\n\")\n",
    "while True:\n",
    "    print(\"reverse_labels:\", reverse_labels)\n",
    "    texto_usuario = input(\"Texto: \")\n",
    "    sys.stdout.flush()  # Forzar impresión inmediata\n",
    "    print(texto_usuario)\n",
    "    if texto_usuario.lower() == \"salir\":\n",
    "        print(\"Saliendo del programa...\")\n",
    "        break\n",
    "    \n",
    "    emocion = predecir_emocion(texto_usuario)\n",
    "    print(f\"La emoción predicha es: {emocion}\\n\")"
   ]
  }
 ],
 "metadata": {
  "kernelspec": {
   "display_name": ".venv",
   "language": "python",
   "name": "python3"
  },
  "language_info": {
   "codemirror_mode": {
    "name": "ipython",
    "version": 3
   },
   "file_extension": ".py",
   "mimetype": "text/x-python",
   "name": "python",
   "nbconvert_exporter": "python",
   "pygments_lexer": "ipython3",
   "version": "3.12.1"
  }
 },
 "nbformat": 4,
 "nbformat_minor": 5
}
